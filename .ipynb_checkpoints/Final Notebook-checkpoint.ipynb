{
 "cells": [
  {
   "cell_type": "code",
   "execution_count": null,
   "id": "square-internet",
   "metadata": {},
   "outputs": [],
   "source": [
    "import numpy as np\n",
    "import pandas as pd\n",
    "import seaborn as sb\n",
    "import matplotlib.pyplot as plt\n",
    "from sklearn.preprocessing import StandardScaler\n",
    "from sklearn.decomposition import PCA\n",
    "from sklearn.model_selection import train_test_split,GridSearchCV, RepeatedStratifiedKFold\n",
    "from sklearn.metrics import confusion_matrix, accuracy_score\n",
    "from sklearn.ensemble import RandomForestClassifier\n",
    "from itertools import product\n",
    "\n",
    "df = pd.read_csv('data.csv',sep='\\t')\n",
    "df.info()"
   ]
  },
  {
   "cell_type": "code",
   "execution_count": null,
   "id": "secondary-reason",
   "metadata": {},
   "outputs": [],
   "source": [
    "DASS_keys = {'Depression': [3, 5, 10, 13, 16, 17, 21, 24, 26, 31, 34, 37, 38, 42],\n",
    "             'Anxiety': [2, 4, 7, 9, 15, 19, 20, 23, 25, 28, 30, 36, 40, 41],\n",
    "             'Stress': [1, 6, 8, 11, 12, 14, 18, 22, 27, 29, 32, 33, 35, 39]}\n",
    "\n",
    "df['wrongansw'] = 0\n",
    "df['wrongansw'] = df['wrongansw'].where(df['VCL6']== 0, df['wrongansw'] + 1)\n",
    "df['wrongansw'] = df['wrongansw'].where(df['VCL9']== 0, df['wrongansw'] + 1)\n",
    "df['wrongansw'] = df['wrongansw'].where(df['VCL12']== 0, df['wrongansw'] + 1)\n",
    "\n",
    "df.wrongansw.value_counts()"
   ]
  },
  {
   "cell_type": "code",
   "execution_count": null,
   "id": "equal-telling",
   "metadata": {},
   "outputs": [],
   "source": [
    "df = df[df['wrongansw'].isin([2, 3])]\n",
    "df = df.drop(columns='wrongansw')\n",
    "df.head(3)\n",
    "df.shape"
   ]
  },
  {
   "cell_type": "code",
   "execution_count": null,
   "id": "advanced-multimedia",
   "metadata": {},
   "outputs": [],
   "source": [
    "vcls = []\n",
    "for i in range(1, 17):\n",
    "    vcls.append('VCL' + str(i))\n",
    "    \n",
    "df = df.drop(columns=vcls)\n",
    "df.shape"
   ]
  },
  {
   "cell_type": "code",
   "execution_count": null,
   "id": "pressed-instruction",
   "metadata": {},
   "outputs": [],
   "source": [
    "depr = []\n",
    "for i in DASS_keys[\"Depression\"]:\n",
    "    depr.append('Q' + str(i) + 'A')\n",
    "    \n",
    "anx = []\n",
    "for i in DASS_keys[\"Anxiety\"]:\n",
    "    anx.append('Q' + str(i) + 'A')\n",
    "\n",
    "stre = []\n",
    "for i in DASS_keys[\"Stress\"]:\n",
    "    stre.append('Q' + str(i) + 'A')\n",
    "\n",
    "df_depr=df.filter(depr)\n",
    "df_anx=df.filter(anx)\n",
    "df_stre=df.filter(stre)"
   ]
  },
  {
   "cell_type": "code",
   "execution_count": null,
   "id": "possible-girlfriend",
   "metadata": {},
   "outputs": [],
   "source": [
    "categorical = df.select_dtypes('object').columns\n",
    "print('Categorical Columns: ', df[categorical].columns)\n",
    "print(df[categorical].nunique())\n",
    "# remove 'major' column\n",
    "df = df.drop(['major'], axis=1)"
   ]
  },
  {
   "cell_type": "code",
   "execution_count": null,
   "id": "round-engineer",
   "metadata": {},
   "outputs": [],
   "source": [
    "df[depr] -= 1 \n",
    "df.head(3)"
   ]
  },
  {
   "cell_type": "code",
   "execution_count": null,
   "id": "colored-artist",
   "metadata": {},
   "outputs": [],
   "source": [
    "def scores(df):\n",
    "    df[\"ScoresD\"] = df[depr].sum(axis=1)\n",
    "    return df"
   ]
  },
  {
   "cell_type": "code",
   "execution_count": null,
   "id": "serial-raise",
   "metadata": {},
   "outputs": [],
   "source": [
    "df = scores(df)\n",
    "df.head(5)"
   ]
  },
  {
   "cell_type": "code",
   "execution_count": null,
   "id": "restricted-night",
   "metadata": {},
   "outputs": [],
   "source": [
    "df[anx] -= 1 \n",
    "df.head(3)"
   ]
  },
  {
   "cell_type": "code",
   "execution_count": null,
   "id": "straight-class",
   "metadata": {},
   "outputs": [],
   "source": [
    "def scores(df):\n",
    "    df[\"ScoresA\"] = df[anx].sum(axis=1)\n",
    "    return df"
   ]
  },
  {
   "cell_type": "code",
   "execution_count": null,
   "id": "after-contributor",
   "metadata": {},
   "outputs": [],
   "source": [
    "df = scores(df)\n",
    "df.head(3)"
   ]
  },
  {
   "cell_type": "code",
   "execution_count": null,
   "id": "lasting-illustration",
   "metadata": {},
   "outputs": [],
   "source": [
    "df[stre] -= 1 \n",
    "df.head(3)"
   ]
  },
  {
   "cell_type": "code",
   "execution_count": null,
   "id": "heated-affiliate",
   "metadata": {},
   "outputs": [],
   "source": [
    "def scores(df):\n",
    "    df[\"ScoresS\"] = df[stre].sum(axis=1)\n",
    "    return df"
   ]
  },
  {
   "cell_type": "code",
   "execution_count": null,
   "id": "joined-consistency",
   "metadata": {},
   "outputs": [],
   "source": [
    "df = scores(df)\n",
    "df.head(3)"
   ]
  },
  {
   "cell_type": "code",
   "execution_count": null,
   "id": "reverse-knitting",
   "metadata": {},
   "outputs": [],
   "source": [
    "Category=[]\n",
    "for i in df['ScoresA']:\n",
    "    if i<=7:\n",
    "        Category.append('0')\n",
    "    elif i<=9:\n",
    "        Category.append('1')\n",
    "    elif i<=14 :\n",
    "        Category.append('2')\n",
    "    elif i<=19:\n",
    "        Category.append('3')\n",
    "    else:\n",
    "        Category.append('4')\n",
    "df['CATEGORY']= Category"
   ]
  },
  {
   "cell_type": "code",
   "execution_count": null,
   "id": "satellite-seller",
   "metadata": {},
   "outputs": [],
   "source": [
    "df.isnull().sum()\n",
    "df.duplicated().sum()"
   ]
  },
  {
   "cell_type": "markdown",
   "id": "educated-redhead",
   "metadata": {},
   "source": [
    "## Anxiety Model"
   ]
  },
  {
   "cell_type": "code",
   "execution_count": null,
   "id": "excessive-creation",
   "metadata": {},
   "outputs": [],
   "source": [
    "y = df['CATEGORY']\n",
    "X = df.drop(columns=['CATEGORY','country', 'ScoresD' ,'ScoresS','Q1A' ,'Q1I', 'Q1E', 'Q2I', 'Q2E', 'Q3A', 'Q3I', 'Q3E','Q4I','Q4E', 'Q5E', 'Q5A' ,'Q5I', 'Q6E', 'Q6A' ,'Q6I', 'Q7E' ,'Q7I', 'Q8E','Q8A' ,'Q8I', 'Q9E', 'Q9I', 'Q10E', 'Q10A', 'Q10I', 'Q11E', 'Q11A' ,'Q11I', 'Q12E', 'Q12A' ,'Q12I', 'Q13E', 'Q13A' ,'Q13I', 'Q14E', 'Q14A' ,'Q14I', 'Q15E', 'Q15I', 'Q16E', 'Q16A' ,'Q16I', 'Q17E', 'Q17A' ,'Q17I', 'Q18E', 'Q18A' ,'Q18I', 'Q19I', 'Q19E',  'Q20I', 'Q20E', 'Q21A', 'Q21I', 'Q21E', 'Q22A', 'Q22I','Q22E', 'Q23I','Q23E','Q24A','Q24I','Q24E', 'Q25I', 'Q25E', 'Q26A', 'Q26I', 'Q26E', 'Q27A', 'Q27I', 'Q27E', 'Q28I', 'Q28E', 'Q29A', 'Q29I', 'Q29E',  'Q30I', 'Q30E', 'Q31A', 'Q31I', 'Q31E', 'Q32A', 'Q32I', 'Q32E', 'Q33A', 'Q33I', 'Q33E', 'Q34A', 'Q34I', 'Q34E', 'Q35A', 'Q35I', 'Q35E', 'Q36I', 'Q36E', 'Q37A', 'Q37I', 'Q37E', 'Q38A', 'Q38I', 'Q38E', 'Q39A', 'Q39I', 'Q39E', 'Q40I', 'Q40E', 'Q41I', 'Q41E', 'Q42A', 'Q42I', 'Q42E'])\n",
    "X.head()"
   ]
  },
  {
   "cell_type": "code",
   "execution_count": null,
   "id": "grateful-sport",
   "metadata": {},
   "outputs": [],
   "source": [
    "scaler = StandardScaler()\n",
    "scaler.fit(X)\n",
    "X = scaler.transform(X)\n",
    "print(X)"
   ]
  },
  {
   "cell_type": "code",
   "execution_count": null,
   "id": "amber-atlanta",
   "metadata": {},
   "outputs": [],
   "source": [
    "X_train, X_test, y_train, y_test = train_test_split(X, y, test_size=0.15, stratify=y,random_state=100)\n",
    "print(X_train.shape)\n",
    "print(X_test.shape)\n",
    "print(y_train.shape)\n",
    "print(y_test.shape)"
   ]
  },
  {
   "cell_type": "code",
   "execution_count": null,
   "id": "realistic-frederick",
   "metadata": {},
   "outputs": [],
   "source": [
    "model = RandomForestClassifier(criterion='entropy',\n",
    "                               max_depth=9,\n",
    "                               n_estimators=100,\n",
    "                               random_state=0)\n",
    "model.fit(X_train, y_train)"
   ]
  },
  {
   "cell_type": "code",
   "execution_count": null,
   "id": "overhead-redhead",
   "metadata": {},
   "outputs": [],
   "source": [
    "score = model.score(X_test, y_test)\n",
    "print(f\"Accuracy: {score}\")"
   ]
  },
  {
   "cell_type": "markdown",
   "id": "clinical-correspondence",
   "metadata": {},
   "source": [
    "## Depression Model"
   ]
  },
  {
   "cell_type": "code",
   "execution_count": null,
   "id": "korean-vermont",
   "metadata": {},
   "outputs": [],
   "source": [
    "Category1=[]\n",
    "for i in df['ScoresD']:\n",
    "    if i<=9:\n",
    "        Category1.append('0')\n",
    "    elif i<=13:\n",
    "        Category1.append('1')\n",
    "    elif i<=20 :\n",
    "        Category1.append('2')\n",
    "    elif i<=27:\n",
    "        Category1.append('3')\n",
    "    else:\n",
    "        Category1.append('4')\n",
    "df['CATEGORY1']= Category1"
   ]
  },
  {
   "cell_type": "code",
   "execution_count": null,
   "id": "invisible-australia",
   "metadata": {},
   "outputs": [],
   "source": [
    "df.isnull().sum()\n",
    "df.duplicated().sum()"
   ]
  },
  {
   "cell_type": "code",
   "execution_count": null,
   "id": "fifteen-mandate",
   "metadata": {},
   "outputs": [],
   "source": [
    "y1 = df['CATEGORY1']\n",
    "X1 = df.drop(columns=['CATEGORY','CATEGORY1','country', 'ScoresA' ,'ScoresS','Q1A' ,'Q1I', 'Q1E', 'Q2A','Q2I', 'Q2E', 'Q3I', 'Q3E','Q4A','Q4I','Q4E', 'Q5E', 'Q5I', 'Q6E', 'Q6A' ,'Q6I', 'Q7A','Q7E' ,'Q7I', 'Q8E','Q8A' ,'Q8I', 'Q9A','Q9E', 'Q9I', 'Q10E', 'Q10I', 'Q11E', 'Q11A' ,'Q11I', 'Q12E', 'Q12A' ,'Q12I', 'Q13E', 'Q13I', 'Q14E', 'Q14A' ,'Q14I', 'Q15E', 'Q15A','Q15I', 'Q16E', 'Q16I', 'Q17E', 'Q17I', 'Q18E', 'Q18A' ,'Q18I', 'Q19A','Q19I', 'Q19E',  'Q20A','Q20I', 'Q20E', 'Q21I', 'Q21E', 'Q22A', 'Q22I','Q22E', 'Q23A','Q23I','Q23E','Q24I','Q24E', 'Q25A','Q25I', 'Q25E', 'Q26I', 'Q26E', 'Q27A', 'Q27I', 'Q27E', 'Q28A','Q28I', 'Q28E', 'Q29A', 'Q29I', 'Q29E', 'Q30A','Q30I', 'Q30E', 'Q31I', 'Q31E', 'Q32A', 'Q32I', 'Q32E', 'Q33A', 'Q33I', 'Q33E', 'Q34I', 'Q34E', 'Q35A', 'Q35I', 'Q35E', 'Q36A','Q36I', 'Q36E', 'Q37I', 'Q37E', 'Q38I', 'Q38E', 'Q39A', 'Q39I', 'Q39E', 'Q40A','Q40I', 'Q40E', 'Q41I', 'Q41E', 'Q41A', 'Q42I', 'Q42E'])\n",
    "X1.head()"
   ]
  },
  {
   "cell_type": "code",
   "execution_count": null,
   "id": "driven-proof",
   "metadata": {},
   "outputs": [],
   "source": [
    "scaler = StandardScaler()\n",
    "scaler.fit(X1)\n",
    "X1 = scaler.transform(X1)\n",
    "print(X1)"
   ]
  },
  {
   "cell_type": "code",
   "execution_count": null,
   "id": "committed-commons",
   "metadata": {},
   "outputs": [],
   "source": [
    "X_train1, X_test1, y_train1, y_test1 = train_test_split(X1, y1, test_size=0.15, stratify=y,random_state=100)\n",
    "print(X_train1.shape)\n",
    "print(X_test1.shape)\n",
    "print(y_train1.shape)\n",
    "print(y_test1.shape)"
   ]
  },
  {
   "cell_type": "code",
   "execution_count": null,
   "id": "bb9108a4-5032-444a-a16c-37010fa2f7b1",
   "metadata": {},
   "outputs": [],
   "source": [
    "X_train1"
   ]
  },
  {
   "cell_type": "code",
   "execution_count": 32,
   "id": "exempt-hearts",
   "metadata": {},
   "outputs": [
    {
     "data": {
      "text/plain": [
       "RandomForestClassifier(criterion='entropy', max_depth=10, random_state=100)"
      ]
     },
     "execution_count": 32,
     "metadata": {},
     "output_type": "execute_result"
    }
   ],
   "source": [
    "model1 = RandomForestClassifier(criterion='entropy',\n",
    "                               max_depth=10,\n",
    "                               n_estimators=100,\n",
    "                               random_state=100)\n",
    "model1.fit(X_train1, y_train1)"
   ]
  },
  {
   "cell_type": "code",
   "execution_count": 33,
   "id": "opposed-heading",
   "metadata": {},
   "outputs": [
    {
     "name": "stdout",
     "output_type": "stream",
     "text": [
      "Accuracy: 1.0\n"
     ]
    }
   ],
   "source": [
    "score1 = model1.score(X_test1, y_test1)\n",
    "print(f\"Accuracy: {score1}\")"
   ]
  },
  {
   "cell_type": "markdown",
   "id": "younger-zealand",
   "metadata": {},
   "source": [
    "## Stress Model"
   ]
  },
  {
   "cell_type": "code",
   "execution_count": 34,
   "id": "advanced-feature",
   "metadata": {},
   "outputs": [],
   "source": [
    "Category2=[]\n",
    "for i in df['ScoresS']:\n",
    "    if i<=14:\n",
    "        Category2.append('0')\n",
    "    elif i<=18:\n",
    "        Category2.append('1')\n",
    "    elif i<=25 :\n",
    "        Category2.append('2')\n",
    "    elif i<=33:\n",
    "        Category2.append('3')\n",
    "    else:\n",
    "        Category2.append('4')\n",
    "df['CATEGORY2']= Category2"
   ]
  },
  {
   "cell_type": "code",
   "execution_count": 35,
   "id": "deadly-lying",
   "metadata": {},
   "outputs": [
    {
     "data": {
      "text/plain": [
       "0"
      ]
     },
     "execution_count": 35,
     "metadata": {},
     "output_type": "execute_result"
    }
   ],
   "source": [
    "df.isnull().sum()\n",
    "df.duplicated().sum()"
   ]
  },
  {
   "cell_type": "code",
   "execution_count": 36,
   "id": "tested-eclipse",
   "metadata": {},
   "outputs": [
    {
     "data": {
      "text/html": [
       "<div>\n",
       "<style scoped>\n",
       "    .dataframe tbody tr th:only-of-type {\n",
       "        vertical-align: middle;\n",
       "    }\n",
       "\n",
       "    .dataframe tbody tr th {\n",
       "        vertical-align: top;\n",
       "    }\n",
       "\n",
       "    .dataframe thead th {\n",
       "        text-align: right;\n",
       "    }\n",
       "</style>\n",
       "<table border=\"1\" class=\"dataframe\">\n",
       "  <thead>\n",
       "    <tr style=\"text-align: right;\">\n",
       "      <th></th>\n",
       "      <th>Q1A</th>\n",
       "      <th>Q6A</th>\n",
       "      <th>Q8A</th>\n",
       "      <th>Q11A</th>\n",
       "      <th>Q12A</th>\n",
       "      <th>Q14A</th>\n",
       "      <th>Q18A</th>\n",
       "      <th>Q22A</th>\n",
       "      <th>Q27A</th>\n",
       "      <th>Q29A</th>\n",
       "      <th>...</th>\n",
       "      <th>screensize</th>\n",
       "      <th>uniquenetworklocation</th>\n",
       "      <th>hand</th>\n",
       "      <th>religion</th>\n",
       "      <th>orientation</th>\n",
       "      <th>race</th>\n",
       "      <th>voted</th>\n",
       "      <th>married</th>\n",
       "      <th>familysize</th>\n",
       "      <th>ScoresS</th>\n",
       "    </tr>\n",
       "  </thead>\n",
       "  <tbody>\n",
       "    <tr>\n",
       "      <th>26</th>\n",
       "      <td>3</td>\n",
       "      <td>3</td>\n",
       "      <td>2</td>\n",
       "      <td>3</td>\n",
       "      <td>3</td>\n",
       "      <td>3</td>\n",
       "      <td>3</td>\n",
       "      <td>3</td>\n",
       "      <td>3</td>\n",
       "      <td>3</td>\n",
       "      <td>...</td>\n",
       "      <td>1</td>\n",
       "      <td>1</td>\n",
       "      <td>1</td>\n",
       "      <td>7</td>\n",
       "      <td>1</td>\n",
       "      <td>60</td>\n",
       "      <td>2</td>\n",
       "      <td>1</td>\n",
       "      <td>3</td>\n",
       "      <td>41</td>\n",
       "    </tr>\n",
       "    <tr>\n",
       "      <th>31</th>\n",
       "      <td>1</td>\n",
       "      <td>1</td>\n",
       "      <td>0</td>\n",
       "      <td>1</td>\n",
       "      <td>1</td>\n",
       "      <td>1</td>\n",
       "      <td>0</td>\n",
       "      <td>0</td>\n",
       "      <td>0</td>\n",
       "      <td>2</td>\n",
       "      <td>...</td>\n",
       "      <td>1</td>\n",
       "      <td>1</td>\n",
       "      <td>1</td>\n",
       "      <td>2</td>\n",
       "      <td>1</td>\n",
       "      <td>60</td>\n",
       "      <td>2</td>\n",
       "      <td>1</td>\n",
       "      <td>3</td>\n",
       "      <td>7</td>\n",
       "    </tr>\n",
       "    <tr>\n",
       "      <th>57</th>\n",
       "      <td>1</td>\n",
       "      <td>2</td>\n",
       "      <td>1</td>\n",
       "      <td>1</td>\n",
       "      <td>2</td>\n",
       "      <td>2</td>\n",
       "      <td>1</td>\n",
       "      <td>1</td>\n",
       "      <td>2</td>\n",
       "      <td>1</td>\n",
       "      <td>...</td>\n",
       "      <td>2</td>\n",
       "      <td>1</td>\n",
       "      <td>1</td>\n",
       "      <td>1</td>\n",
       "      <td>1</td>\n",
       "      <td>60</td>\n",
       "      <td>1</td>\n",
       "      <td>1</td>\n",
       "      <td>2</td>\n",
       "      <td>20</td>\n",
       "    </tr>\n",
       "    <tr>\n",
       "      <th>81</th>\n",
       "      <td>3</td>\n",
       "      <td>3</td>\n",
       "      <td>3</td>\n",
       "      <td>2</td>\n",
       "      <td>3</td>\n",
       "      <td>1</td>\n",
       "      <td>3</td>\n",
       "      <td>3</td>\n",
       "      <td>3</td>\n",
       "      <td>3</td>\n",
       "      <td>...</td>\n",
       "      <td>2</td>\n",
       "      <td>1</td>\n",
       "      <td>1</td>\n",
       "      <td>4</td>\n",
       "      <td>1</td>\n",
       "      <td>70</td>\n",
       "      <td>2</td>\n",
       "      <td>1</td>\n",
       "      <td>6</td>\n",
       "      <td>31</td>\n",
       "    </tr>\n",
       "    <tr>\n",
       "      <th>87</th>\n",
       "      <td>2</td>\n",
       "      <td>3</td>\n",
       "      <td>3</td>\n",
       "      <td>3</td>\n",
       "      <td>2</td>\n",
       "      <td>3</td>\n",
       "      <td>3</td>\n",
       "      <td>3</td>\n",
       "      <td>3</td>\n",
       "      <td>3</td>\n",
       "      <td>...</td>\n",
       "      <td>1</td>\n",
       "      <td>1</td>\n",
       "      <td>1</td>\n",
       "      <td>1</td>\n",
       "      <td>1</td>\n",
       "      <td>30</td>\n",
       "      <td>2</td>\n",
       "      <td>1</td>\n",
       "      <td>3</td>\n",
       "      <td>39</td>\n",
       "    </tr>\n",
       "  </tbody>\n",
       "</table>\n",
       "<p>5 rows × 43 columns</p>\n",
       "</div>"
      ],
      "text/plain": [
       "    Q1A  Q6A  Q8A  Q11A  Q12A  Q14A  Q18A  Q22A  Q27A  Q29A  ...  screensize  \\\n",
       "26    3    3    2     3     3     3     3     3     3     3  ...           1   \n",
       "31    1    1    0     1     1     1     0     0     0     2  ...           1   \n",
       "57    1    2    1     1     2     2     1     1     2     1  ...           2   \n",
       "81    3    3    3     2     3     1     3     3     3     3  ...           2   \n",
       "87    2    3    3     3     2     3     3     3     3     3  ...           1   \n",
       "\n",
       "    uniquenetworklocation  hand  religion  orientation  race  voted  married  \\\n",
       "26                      1     1         7            1    60      2        1   \n",
       "31                      1     1         2            1    60      2        1   \n",
       "57                      1     1         1            1    60      1        1   \n",
       "81                      1     1         4            1    70      2        1   \n",
       "87                      1     1         1            1    30      2        1   \n",
       "\n",
       "    familysize  ScoresS  \n",
       "26           3       41  \n",
       "31           3        7  \n",
       "57           2       20  \n",
       "81           6       31  \n",
       "87           3       39  \n",
       "\n",
       "[5 rows x 43 columns]"
      ]
     },
     "execution_count": 36,
     "metadata": {},
     "output_type": "execute_result"
    }
   ],
   "source": [
    "y2 = df['CATEGORY2']\n",
    "X2 = df.drop(columns=['CATEGORY','CATEGORY1','CATEGORY2','country', 'ScoresA' ,'ScoresD','Q1I', 'Q1E', 'Q2A','Q2I', 'Q2E', 'Q3A','Q3I', 'Q3E','Q4A','Q4I','Q4E', 'Q5A','Q5E', 'Q5I', 'Q6E','Q6I', 'Q7A','Q7E' ,'Q7I', 'Q8E','Q8I', 'Q9A','Q9E', 'Q9I', 'Q10A','Q10E', 'Q10I', 'Q11E','Q11I', 'Q12E','Q12I', 'Q13A','Q13E', 'Q13I', 'Q14E','Q14I', 'Q15E', 'Q15A','Q15I', 'Q16A','Q16E', 'Q16I', 'Q17A','Q17E', 'Q17I', 'Q18E', 'Q18I', 'Q19A','Q19I', 'Q19E',  'Q20A','Q20I', 'Q20E', 'Q21A','Q21I', 'Q21E', 'Q22I','Q22E', 'Q23A','Q23I','Q23E','Q24A','Q24I','Q24E', 'Q25A','Q25I', 'Q25E', 'Q26A','Q26I', 'Q26E', 'Q27I', 'Q27E', 'Q28A','Q28I', 'Q28E', 'Q29I', 'Q29E', 'Q30A','Q30I', 'Q30E', 'Q31A','Q31I', 'Q31E', 'Q32I', 'Q32E', 'Q33I', 'Q33E', 'Q34A','Q34I', 'Q34E', 'Q35I', 'Q35E', 'Q36A','Q36I', 'Q36E', 'Q37A','Q37I', 'Q37E', 'Q38A','Q38I', 'Q38E', 'Q39A', 'Q39E', 'Q40A','Q40I', 'Q40E', 'Q41I', 'Q41E', 'Q41A', 'Q42A','Q42I', 'Q42E'])\n",
    "X2.head()"
   ]
  },
  {
   "cell_type": "code",
   "execution_count": 37,
   "id": "revised-compilation",
   "metadata": {},
   "outputs": [
    {
     "name": "stdout",
     "output_type": "stream",
     "text": [
      "[[ 1.25283128  1.2144967   0.24179779 ... -0.41158476 -0.04026184\n",
      "   1.53226737]\n",
      " [-0.57235947 -0.55372424 -1.57842427 ... -0.41158476 -0.04026184\n",
      "  -1.35921687]\n",
      " [-0.57235947  0.33038623 -0.66831324 ... -0.41158476 -0.41603906\n",
      "  -0.25364937]\n",
      " ...\n",
      " [-1.48495484 -1.43783471 -1.57842427 ... -2.34805733  1.46284701\n",
      "  -1.69939149]\n",
      " [ 1.25283128  1.2144967   0.24179779 ...  3.46136038 -0.04026184\n",
      "   1.53226737]\n",
      " [ 0.34023591  1.2144967   1.15190882 ... -0.41158476  0.71129258\n",
      "   0.76687448]]\n"
     ]
    }
   ],
   "source": [
    "scaler = StandardScaler()\n",
    "scaler.fit(X2)\n",
    "X2 = scaler.transform(X2)\n",
    "print(X2)"
   ]
  },
  {
   "cell_type": "code",
   "execution_count": 38,
   "id": "interesting-interaction",
   "metadata": {},
   "outputs": [
    {
     "name": "stdout",
     "output_type": "stream",
     "text": [
      "(975, 43)\n",
      "(173, 43)\n",
      "(975,)\n",
      "(173,)\n"
     ]
    }
   ],
   "source": [
    "X_train2, X_test2, y_train2, y_test2 = train_test_split(X2, y2, test_size=0.15, stratify=y,random_state=100)\n",
    "print(X_train2.shape)\n",
    "print(X_test2.shape)\n",
    "print(y_train2.shape)\n",
    "print(y_test2.shape)"
   ]
  },
  {
   "cell_type": "code",
   "execution_count": 41,
   "id": "specified-denver",
   "metadata": {},
   "outputs": [
    {
     "data": {
      "text/plain": [
       "RandomForestClassifier(criterion='entropy', max_depth=10, random_state=21)"
      ]
     },
     "execution_count": 41,
     "metadata": {},
     "output_type": "execute_result"
    }
   ],
   "source": [
    "model2 = RandomForestClassifier(criterion='entropy',\n",
    "                               max_depth=10,\n",
    "                               n_estimators=100,\n",
    "                               random_state=21)\n",
    "model2.fit(X_train2, y_train2)"
   ]
  },
  {
   "cell_type": "code",
   "execution_count": 42,
   "id": "consolidated-board",
   "metadata": {},
   "outputs": [
    {
     "name": "stdout",
     "output_type": "stream",
     "text": [
      "Accuracy: 0.9826589595375722\n"
     ]
    }
   ],
   "source": [
    "score2 = model2.score(X_test2, y_test2)\n",
    "print(f\"Accuracy: {score2}\")"
   ]
  }
 ],
 "metadata": {
  "kernelspec": {
   "display_name": "Python 3",
   "language": "python",
   "name": "python3"
  },
  "language_info": {
   "codemirror_mode": {
    "name": "ipython",
    "version": 3
   },
   "file_extension": ".py",
   "mimetype": "text/x-python",
   "name": "python",
   "nbconvert_exporter": "python",
   "pygments_lexer": "ipython3",
   "version": "3.7.9"
  }
 },
 "nbformat": 4,
 "nbformat_minor": 5
}
